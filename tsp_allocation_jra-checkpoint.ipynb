{
 "cells": [
  {
   "cell_type": "markdown",
   "metadata": {},
   "source": [
    "# Jayshri Ravishankar\n",
    "### Final Project: Government Retirement Fund Allocation Strategy\n",
    "### Objective: Find out fund investment strategy for retirement from federal government. This project will help me         to correctly identify the right percentage that should be allocated for the highest return.\n",
    "### Data Source: Data was downloaded from www.tsp.gov website from Jan 01 2004 to 03/21/2019\n",
    " "
   ]
  },
  {
   "cell_type": "markdown",
   "metadata": {},
   "source": [
    "# 1. Data Import into Python\n",
    "# 2. Data Exloration  \n",
    "# 3. Data Cleansing/Manipulation\n",
    "# 4. Data Visualization\n",
    "# 5. Correlation and Linear Regression\n",
    "# 6. Summary"
   ]
  },
  {
   "cell_type": "markdown",
   "metadata": {},
   "source": [
    "########################################1. Data Import ##################################################################"
   ]
  },
  {
   "cell_type": "markdown",
   "metadata": {},
   "source": [
    "Data was downloaded in CSV format from the website. Data was opened in excel and \n",
    "column heading were altered such that no blank existed in the column heading. \n",
    "For example: Name for fund : L Iincome was altered to Lincome\n"
   ]
  },
  {
   "cell_type": "markdown",
   "metadata": {},
   "source": [
    "There are several ways to bring the data to python. We can read the data using Pandas library"
   ]
  },
  {
   "cell_type": "markdown",
   "metadata": {},
   "source": [
    "####### Method 1: Using Pandas Library"
   ]
  },
  {
   "cell_type": "code",
   "execution_count": 3,
   "metadata": {},
   "outputs": [],
   "source": [
    "#Define libraries\n",
    "\n",
    "import pandas as pd\n",
    "import numpy as np"
   ]
  },
  {
   "cell_type": "code",
   "execution_count": 4,
   "metadata": {},
   "outputs": [],
   "source": [
    "#import Excel File\n",
    "location = \"c:/users/ravi/downloads/Data_Analytic/shareprices.xlsx\"\n",
    "pd_df = pd.read_excel(location)"
   ]
  },
  {
   "cell_type": "code",
   "execution_count": 5,
   "metadata": {},
   "outputs": [
    {
     "data": {
      "text/html": [
       "<div>\n",
       "<style scoped>\n",
       "    .dataframe tbody tr th:only-of-type {\n",
       "        vertical-align: middle;\n",
       "    }\n",
       "\n",
       "    .dataframe tbody tr th {\n",
       "        vertical-align: top;\n",
       "    }\n",
       "\n",
       "    .dataframe thead th {\n",
       "        text-align: right;\n",
       "    }\n",
       "</style>\n",
       "<table border=\"1\" class=\"dataframe\">\n",
       "  <thead>\n",
       "    <tr style=\"text-align: right;\">\n",
       "      <th></th>\n",
       "      <th>date</th>\n",
       "      <th>LIncome</th>\n",
       "      <th>L2020</th>\n",
       "      <th>L2030</th>\n",
       "      <th>L2040</th>\n",
       "      <th>L2050</th>\n",
       "      <th>GFund</th>\n",
       "      <th>FFund</th>\n",
       "      <th>CFund</th>\n",
       "      <th>SFund</th>\n",
       "      <th>IFund</th>\n",
       "    </tr>\n",
       "  </thead>\n",
       "  <tbody>\n",
       "    <tr>\n",
       "      <th>0</th>\n",
       "      <td>2019-03-22</td>\n",
       "      <td>20.2563</td>\n",
       "      <td>27.8246</td>\n",
       "      <td>31.7687</td>\n",
       "      <td>34.5466</td>\n",
       "      <td>19.9816</td>\n",
       "      <td>16.0882</td>\n",
       "      <td>18.6160</td>\n",
       "      <td>40.3623</td>\n",
       "      <td>50.0398</td>\n",
       "      <td>29.2352</td>\n",
       "    </tr>\n",
       "    <tr>\n",
       "      <th>1</th>\n",
       "      <td>2019-03-21</td>\n",
       "      <td>20.3301</td>\n",
       "      <td>27.9737</td>\n",
       "      <td>32.1324</td>\n",
       "      <td>35.0233</td>\n",
       "      <td>20.2993</td>\n",
       "      <td>16.0870</td>\n",
       "      <td>18.5326</td>\n",
       "      <td>41.1396</td>\n",
       "      <td>51.6121</td>\n",
       "      <td>29.6904</td>\n",
       "    </tr>\n",
       "    <tr>\n",
       "      <th>2</th>\n",
       "      <td>2019-03-20</td>\n",
       "      <td>20.2941</td>\n",
       "      <td>27.904</td>\n",
       "      <td>31.9714</td>\n",
       "      <td>34.8142</td>\n",
       "      <td>20.1612</td>\n",
       "      <td>16.0858</td>\n",
       "      <td>18.5202</td>\n",
       "      <td>40.6933</td>\n",
       "      <td>50.9036</td>\n",
       "      <td>29.6298</td>\n",
       "    </tr>\n",
       "    <tr>\n",
       "      <th>3</th>\n",
       "      <td>2019-03-19</td>\n",
       "      <td>20.3068</td>\n",
       "      <td>27.9322</td>\n",
       "      <td>32.0476</td>\n",
       "      <td>34.9155</td>\n",
       "      <td>20.2297</td>\n",
       "      <td>16.0846</td>\n",
       "      <td>18.4548</td>\n",
       "      <td>40.8118</td>\n",
       "      <td>51.2388</td>\n",
       "      <td>29.7996</td>\n",
       "    </tr>\n",
       "    <tr>\n",
       "      <th>4</th>\n",
       "      <td>2019-03-18</td>\n",
       "      <td>20.3029</td>\n",
       "      <td>27.9252</td>\n",
       "      <td>32.0337</td>\n",
       "      <td>34.8987</td>\n",
       "      <td>20.2195</td>\n",
       "      <td>16.0834</td>\n",
       "      <td>18.4609</td>\n",
       "      <td>40.8156</td>\n",
       "      <td>51.4784</td>\n",
       "      <td>29.6783</td>\n",
       "    </tr>\n",
       "  </tbody>\n",
       "</table>\n",
       "</div>"
      ],
      "text/plain": [
       "        date  LIncome    L2020    L2030    L2040    L2050    GFund    FFund  \\\n",
       "0 2019-03-22  20.2563  27.8246  31.7687  34.5466  19.9816  16.0882  18.6160   \n",
       "1 2019-03-21  20.3301  27.9737  32.1324  35.0233  20.2993  16.0870  18.5326   \n",
       "2 2019-03-20  20.2941   27.904  31.9714  34.8142  20.1612  16.0858  18.5202   \n",
       "3 2019-03-19  20.3068  27.9322  32.0476  34.9155  20.2297  16.0846  18.4548   \n",
       "4 2019-03-18  20.3029  27.9252  32.0337  34.8987  20.2195  16.0834  18.4609   \n",
       "\n",
       "     CFund    SFund    IFund  \n",
       "0  40.3623  50.0398  29.2352  \n",
       "1  41.1396  51.6121  29.6904  \n",
       "2  40.6933  50.9036  29.6298  \n",
       "3  40.8118  51.2388  29.7996  \n",
       "4  40.8156  51.4784  29.6783  "
      ]
     },
     "execution_count": 5,
     "metadata": {},
     "output_type": "execute_result"
    }
   ],
   "source": [
    "#Check the Header information\n",
    "pd_df.head()"
   ]
  },
  {
   "cell_type": "code",
   "execution_count": 6,
   "metadata": {},
   "outputs": [
    {
     "data": {
      "text/plain": [
       "Index(['date', 'LIncome', 'L2020', 'L2030', 'L2040', 'L2050', 'GFund', 'FFund',\n",
       "       'CFund', 'SFund', 'IFund'],\n",
       "      dtype='object')"
      ]
     },
     "execution_count": 6,
     "metadata": {},
     "output_type": "execute_result"
    }
   ],
   "source": [
    "#check the column names in the dataset\n",
    "pd_df.columns"
   ]
  },
  {
   "cell_type": "code",
   "execution_count": 7,
   "metadata": {},
   "outputs": [
    {
     "data": {
      "text/plain": [
       "date       datetime64[ns]\n",
       "LIncome           float64\n",
       "L2020              object\n",
       "L2030              object\n",
       "L2040              object\n",
       "L2050              object\n",
       "GFund             float64\n",
       "FFund             float64\n",
       "CFund             float64\n",
       "SFund             float64\n",
       "IFund             float64\n",
       "dtype: object"
      ]
     },
     "execution_count": 7,
     "metadata": {},
     "output_type": "execute_result"
    }
   ],
   "source": [
    "#show the data type of each column\n",
    "pd_df.dtypes"
   ]
  },
  {
   "cell_type": "markdown",
   "metadata": {},
   "source": [
    "###### Method 2: Import the data as a SQL table "
   ]
  },
  {
   "cell_type": "code",
   "execution_count": 8,
   "metadata": {},
   "outputs": [],
   "source": [
    "import sqlite3\n",
    "\n",
    "#read the Excel\n",
    "df = pd.read_excel(location)\n",
    "\n",
    "#connect to a database\n",
    "conn = sqlite3.connect(\"TSP.db\") #if the db does not exist, this creates a Any_Database_Name.db file in the current directory\n",
    "\n",
    "#drop the table if exist first \n",
    "conn.executescript('drop table if exists tsp_prices;')\n",
    "\n",
    "#store  table in the database:\n",
    "df.to_sql('tsp_prices', conn)\n",
    "\n"
   ]
  },
  {
   "cell_type": "code",
   "execution_count": 9,
   "metadata": {},
   "outputs": [
    {
     "data": {
      "text/html": [
       "<div>\n",
       "<style scoped>\n",
       "    .dataframe tbody tr th:only-of-type {\n",
       "        vertical-align: middle;\n",
       "    }\n",
       "\n",
       "    .dataframe tbody tr th {\n",
       "        vertical-align: top;\n",
       "    }\n",
       "\n",
       "    .dataframe thead th {\n",
       "        text-align: right;\n",
       "    }\n",
       "</style>\n",
       "<table border=\"1\" class=\"dataframe\">\n",
       "  <thead>\n",
       "    <tr style=\"text-align: right;\">\n",
       "      <th></th>\n",
       "      <th>index</th>\n",
       "      <th>date</th>\n",
       "      <th>LIncome</th>\n",
       "      <th>L2020</th>\n",
       "      <th>L2030</th>\n",
       "      <th>L2040</th>\n",
       "      <th>L2050</th>\n",
       "      <th>GFund</th>\n",
       "      <th>FFund</th>\n",
       "      <th>CFund</th>\n",
       "      <th>SFund</th>\n",
       "      <th>IFund</th>\n",
       "    </tr>\n",
       "  </thead>\n",
       "  <tbody>\n",
       "    <tr>\n",
       "      <th>0</th>\n",
       "      <td>0</td>\n",
       "      <td>2019-03-22 00:00:00</td>\n",
       "      <td>20.2563</td>\n",
       "      <td>27.8246</td>\n",
       "      <td>31.7687</td>\n",
       "      <td>34.5466</td>\n",
       "      <td>19.9816</td>\n",
       "      <td>16.0882</td>\n",
       "      <td>18.6160</td>\n",
       "      <td>40.3623</td>\n",
       "      <td>50.0398</td>\n",
       "      <td>29.2352</td>\n",
       "    </tr>\n",
       "    <tr>\n",
       "      <th>1</th>\n",
       "      <td>1</td>\n",
       "      <td>2019-03-21 00:00:00</td>\n",
       "      <td>20.3301</td>\n",
       "      <td>27.9737</td>\n",
       "      <td>32.1324</td>\n",
       "      <td>35.0233</td>\n",
       "      <td>20.2993</td>\n",
       "      <td>16.0870</td>\n",
       "      <td>18.5326</td>\n",
       "      <td>41.1396</td>\n",
       "      <td>51.6121</td>\n",
       "      <td>29.6904</td>\n",
       "    </tr>\n",
       "    <tr>\n",
       "      <th>2</th>\n",
       "      <td>2</td>\n",
       "      <td>2019-03-20 00:00:00</td>\n",
       "      <td>20.2941</td>\n",
       "      <td>27.904</td>\n",
       "      <td>31.9714</td>\n",
       "      <td>34.8142</td>\n",
       "      <td>20.1612</td>\n",
       "      <td>16.0858</td>\n",
       "      <td>18.5202</td>\n",
       "      <td>40.6933</td>\n",
       "      <td>50.9036</td>\n",
       "      <td>29.6298</td>\n",
       "    </tr>\n",
       "    <tr>\n",
       "      <th>3</th>\n",
       "      <td>3</td>\n",
       "      <td>2019-03-19 00:00:00</td>\n",
       "      <td>20.3068</td>\n",
       "      <td>27.9322</td>\n",
       "      <td>32.0476</td>\n",
       "      <td>34.9155</td>\n",
       "      <td>20.2297</td>\n",
       "      <td>16.0846</td>\n",
       "      <td>18.4548</td>\n",
       "      <td>40.8118</td>\n",
       "      <td>51.2388</td>\n",
       "      <td>29.7996</td>\n",
       "    </tr>\n",
       "    <tr>\n",
       "      <th>4</th>\n",
       "      <td>4</td>\n",
       "      <td>2019-03-18 00:00:00</td>\n",
       "      <td>20.3029</td>\n",
       "      <td>27.9252</td>\n",
       "      <td>32.0337</td>\n",
       "      <td>34.8987</td>\n",
       "      <td>20.2195</td>\n",
       "      <td>16.0834</td>\n",
       "      <td>18.4609</td>\n",
       "      <td>40.8156</td>\n",
       "      <td>51.4784</td>\n",
       "      <td>29.6783</td>\n",
       "    </tr>\n",
       "  </tbody>\n",
       "</table>\n",
       "</div>"
      ],
      "text/plain": [
       "   index                 date  LIncome    L2020    L2030    L2040    L2050  \\\n",
       "0      0  2019-03-22 00:00:00  20.2563  27.8246  31.7687  34.5466  19.9816   \n",
       "1      1  2019-03-21 00:00:00  20.3301  27.9737  32.1324  35.0233  20.2993   \n",
       "2      2  2019-03-20 00:00:00  20.2941   27.904  31.9714  34.8142  20.1612   \n",
       "3      3  2019-03-19 00:00:00  20.3068  27.9322  32.0476  34.9155  20.2297   \n",
       "4      4  2019-03-18 00:00:00  20.3029  27.9252  32.0337  34.8987  20.2195   \n",
       "\n",
       "     GFund    FFund    CFund    SFund    IFund  \n",
       "0  16.0882  18.6160  40.3623  50.0398  29.2352  \n",
       "1  16.0870  18.5326  41.1396  51.6121  29.6904  \n",
       "2  16.0858  18.5202  40.6933  50.9036  29.6298  \n",
       "3  16.0846  18.4548  40.8118  51.2388  29.7996  \n",
       "4  16.0834  18.4609  40.8156  51.4784  29.6783  "
      ]
     },
     "execution_count": 9,
     "metadata": {},
     "output_type": "execute_result"
    }
   ],
   "source": [
    "#read a SQL Query from database and into a pandas dataframe\n",
    "sql_string = 'SELECT * FROM tsp_prices'\n",
    "sql_df = pd.read_sql(sql_string, conn)\n",
    "sql_df.head()"
   ]
  },
  {
   "cell_type": "markdown",
   "metadata": {},
   "source": [
    "## DATA EXPLORATION\n"
   ]
  },
  {
   "cell_type": "code",
   "execution_count": 10,
   "metadata": {},
   "outputs": [
    {
     "data": {
      "text/plain": [
       "Index(['date', 'LIncome', 'L2020', 'L2030', 'L2040', 'L2050', 'GFund', 'FFund',\n",
       "       'CFund', 'SFund', 'IFund'],\n",
       "      dtype='object')"
      ]
     },
     "execution_count": 10,
     "metadata": {},
     "output_type": "execute_result"
    }
   ],
   "source": [
    "#Show the columns names in the dataset\n",
    "pd_df.columns"
   ]
  },
  {
   "cell_type": "code",
   "execution_count": 11,
   "metadata": {},
   "outputs": [
    {
     "data": {
      "text/plain": [
       "Index(['index', 'date', 'LIncome', 'L2020', 'L2030', 'L2040', 'L2050', 'GFund',\n",
       "       'FFund', 'CFund', 'SFund', 'IFund'],\n",
       "      dtype='object')"
      ]
     },
     "execution_count": 11,
     "metadata": {},
     "output_type": "execute_result"
    }
   ],
   "source": [
    "sql_df.columns"
   ]
  },
  {
   "cell_type": "code",
   "execution_count": 12,
   "metadata": {},
   "outputs": [
    {
     "data": {
      "text/plain": [
       "date       datetime64[ns]\n",
       "LIncome           float64\n",
       "L2020              object\n",
       "L2030              object\n",
       "L2040              object\n",
       "L2050              object\n",
       "GFund             float64\n",
       "FFund             float64\n",
       "CFund             float64\n",
       "SFund             float64\n",
       "IFund             float64\n",
       "dtype: object"
      ]
     },
     "execution_count": 12,
     "metadata": {},
     "output_type": "execute_result"
    }
   ],
   "source": [
    "#show the data type of each column\n",
    "pd_df.dtypes"
   ]
  },
  {
   "cell_type": "code",
   "execution_count": 13,
   "metadata": {},
   "outputs": [
    {
     "data": {
      "text/plain": [
       "index        int64\n",
       "date        object\n",
       "LIncome    float64\n",
       "L2020       object\n",
       "L2030       object\n",
       "L2040       object\n",
       "L2050       object\n",
       "GFund      float64\n",
       "FFund      float64\n",
       "CFund      float64\n",
       "SFund      float64\n",
       "IFund      float64\n",
       "dtype: object"
      ]
     },
     "execution_count": 13,
     "metadata": {},
     "output_type": "execute_result"
    }
   ],
   "source": [
    "sql_df.dtypes"
   ]
  },
  {
   "cell_type": "code",
   "execution_count": 14,
   "metadata": {},
   "outputs": [
    {
     "data": {
      "text/plain": [
       "date       3803\n",
       "LIncome    3803\n",
       "L2020      3803\n",
       "L2030      3803\n",
       "L2040      3803\n",
       "L2050      3803\n",
       "GFund      3803\n",
       "FFund      3803\n",
       "CFund      3803\n",
       "SFund      3803\n",
       "IFund      3803\n",
       "dtype: int64"
      ]
     },
     "execution_count": 14,
     "metadata": {},
     "output_type": "execute_result"
    }
   ],
   "source": [
    "#number of non-VA values\n",
    "pd_df.count()"
   ]
  },
  {
   "cell_type": "code",
   "execution_count": 15,
   "metadata": {},
   "outputs": [
    {
     "data": {
      "text/html": [
       "<div>\n",
       "<style scoped>\n",
       "    .dataframe tbody tr th:only-of-type {\n",
       "        vertical-align: middle;\n",
       "    }\n",
       "\n",
       "    .dataframe tbody tr th {\n",
       "        vertical-align: top;\n",
       "    }\n",
       "\n",
       "    .dataframe thead th {\n",
       "        text-align: right;\n",
       "    }\n",
       "</style>\n",
       "<table border=\"1\" class=\"dataframe\">\n",
       "  <thead>\n",
       "    <tr style=\"text-align: right;\">\n",
       "      <th></th>\n",
       "      <th>LIncome</th>\n",
       "      <th>GFund</th>\n",
       "      <th>FFund</th>\n",
       "      <th>CFund</th>\n",
       "      <th>SFund</th>\n",
       "      <th>IFund</th>\n",
       "    </tr>\n",
       "  </thead>\n",
       "  <tbody>\n",
       "    <tr>\n",
       "      <th>count</th>\n",
       "      <td>3803.000000</td>\n",
       "      <td>3803.000000</td>\n",
       "      <td>3803.000000</td>\n",
       "      <td>3803.000000</td>\n",
       "      <td>3803.000000</td>\n",
       "      <td>3803.000000</td>\n",
       "    </tr>\n",
       "    <tr>\n",
       "      <th>mean</th>\n",
       "      <td>14.030255</td>\n",
       "      <td>13.417366</td>\n",
       "      <td>14.381294</td>\n",
       "      <td>20.442476</td>\n",
       "      <td>26.329833</td>\n",
       "      <td>21.516101</td>\n",
       "    </tr>\n",
       "    <tr>\n",
       "      <th>std</th>\n",
       "      <td>5.331284</td>\n",
       "      <td>1.610512</td>\n",
       "      <td>2.745017</td>\n",
       "      <td>8.724108</td>\n",
       "      <td>11.856997</td>\n",
       "      <td>4.921716</td>\n",
       "    </tr>\n",
       "    <tr>\n",
       "      <th>min</th>\n",
       "      <td>0.000000</td>\n",
       "      <td>10.240000</td>\n",
       "      <td>9.830000</td>\n",
       "      <td>7.867300</td>\n",
       "      <td>9.063100</td>\n",
       "      <td>10.290300</td>\n",
       "    </tr>\n",
       "    <tr>\n",
       "      <th>25%</th>\n",
       "      <td>12.945000</td>\n",
       "      <td>12.170000</td>\n",
       "      <td>11.695000</td>\n",
       "      <td>13.647450</td>\n",
       "      <td>16.954600</td>\n",
       "      <td>17.925050</td>\n",
       "    </tr>\n",
       "    <tr>\n",
       "      <th>50%</th>\n",
       "      <td>14.943300</td>\n",
       "      <td>13.719400</td>\n",
       "      <td>15.025400</td>\n",
       "      <td>16.499100</td>\n",
       "      <td>21.716100</td>\n",
       "      <td>21.684900</td>\n",
       "    </tr>\n",
       "    <tr>\n",
       "      <th>75%</th>\n",
       "      <td>17.623450</td>\n",
       "      <td>14.734100</td>\n",
       "      <td>16.943500</td>\n",
       "      <td>27.228700</td>\n",
       "      <td>35.649700</td>\n",
       "      <td>25.012250</td>\n",
       "    </tr>\n",
       "    <tr>\n",
       "      <th>max</th>\n",
       "      <td>20.330100</td>\n",
       "      <td>16.088200</td>\n",
       "      <td>18.616000</td>\n",
       "      <td>41.800100</td>\n",
       "      <td>54.688500</td>\n",
       "      <td>32.866600</td>\n",
       "    </tr>\n",
       "  </tbody>\n",
       "</table>\n",
       "</div>"
      ],
      "text/plain": [
       "           LIncome        GFund        FFund        CFund        SFund  \\\n",
       "count  3803.000000  3803.000000  3803.000000  3803.000000  3803.000000   \n",
       "mean     14.030255    13.417366    14.381294    20.442476    26.329833   \n",
       "std       5.331284     1.610512     2.745017     8.724108    11.856997   \n",
       "min       0.000000    10.240000     9.830000     7.867300     9.063100   \n",
       "25%      12.945000    12.170000    11.695000    13.647450    16.954600   \n",
       "50%      14.943300    13.719400    15.025400    16.499100    21.716100   \n",
       "75%      17.623450    14.734100    16.943500    27.228700    35.649700   \n",
       "max      20.330100    16.088200    18.616000    41.800100    54.688500   \n",
       "\n",
       "             IFund  \n",
       "count  3803.000000  \n",
       "mean     21.516101  \n",
       "std       4.921716  \n",
       "min      10.290300  \n",
       "25%      17.925050  \n",
       "50%      21.684900  \n",
       "75%      25.012250  \n",
       "max      32.866600  "
      ]
     },
     "execution_count": 15,
     "metadata": {},
     "output_type": "execute_result"
    }
   ],
   "source": [
    "pd_df.describe()"
   ]
  },
  {
   "cell_type": "code",
   "execution_count": 16,
   "metadata": {},
   "outputs": [
    {
     "data": {
      "text/html": [
       "<div>\n",
       "<style scoped>\n",
       "    .dataframe tbody tr th:only-of-type {\n",
       "        vertical-align: middle;\n",
       "    }\n",
       "\n",
       "    .dataframe tbody tr th {\n",
       "        vertical-align: top;\n",
       "    }\n",
       "\n",
       "    .dataframe thead th {\n",
       "        text-align: right;\n",
       "    }\n",
       "</style>\n",
       "<table border=\"1\" class=\"dataframe\">\n",
       "  <thead>\n",
       "    <tr style=\"text-align: right;\">\n",
       "      <th></th>\n",
       "      <th>index</th>\n",
       "      <th>LIncome</th>\n",
       "      <th>GFund</th>\n",
       "      <th>FFund</th>\n",
       "      <th>CFund</th>\n",
       "      <th>SFund</th>\n",
       "      <th>IFund</th>\n",
       "    </tr>\n",
       "  </thead>\n",
       "  <tbody>\n",
       "    <tr>\n",
       "      <th>count</th>\n",
       "      <td>3803.000000</td>\n",
       "      <td>3803.000000</td>\n",
       "      <td>3803.000000</td>\n",
       "      <td>3803.000000</td>\n",
       "      <td>3803.000000</td>\n",
       "      <td>3803.000000</td>\n",
       "      <td>3803.000000</td>\n",
       "    </tr>\n",
       "    <tr>\n",
       "      <th>mean</th>\n",
       "      <td>1901.000000</td>\n",
       "      <td>14.030255</td>\n",
       "      <td>13.417366</td>\n",
       "      <td>14.381294</td>\n",
       "      <td>20.442476</td>\n",
       "      <td>26.329833</td>\n",
       "      <td>21.516101</td>\n",
       "    </tr>\n",
       "    <tr>\n",
       "      <th>std</th>\n",
       "      <td>1097.975865</td>\n",
       "      <td>5.331284</td>\n",
       "      <td>1.610512</td>\n",
       "      <td>2.745017</td>\n",
       "      <td>8.724108</td>\n",
       "      <td>11.856997</td>\n",
       "      <td>4.921716</td>\n",
       "    </tr>\n",
       "    <tr>\n",
       "      <th>min</th>\n",
       "      <td>0.000000</td>\n",
       "      <td>0.000000</td>\n",
       "      <td>10.240000</td>\n",
       "      <td>9.830000</td>\n",
       "      <td>7.867300</td>\n",
       "      <td>9.063100</td>\n",
       "      <td>10.290300</td>\n",
       "    </tr>\n",
       "    <tr>\n",
       "      <th>25%</th>\n",
       "      <td>950.500000</td>\n",
       "      <td>12.945000</td>\n",
       "      <td>12.170000</td>\n",
       "      <td>11.695000</td>\n",
       "      <td>13.647450</td>\n",
       "      <td>16.954600</td>\n",
       "      <td>17.925050</td>\n",
       "    </tr>\n",
       "    <tr>\n",
       "      <th>50%</th>\n",
       "      <td>1901.000000</td>\n",
       "      <td>14.943300</td>\n",
       "      <td>13.719400</td>\n",
       "      <td>15.025400</td>\n",
       "      <td>16.499100</td>\n",
       "      <td>21.716100</td>\n",
       "      <td>21.684900</td>\n",
       "    </tr>\n",
       "    <tr>\n",
       "      <th>75%</th>\n",
       "      <td>2851.500000</td>\n",
       "      <td>17.623450</td>\n",
       "      <td>14.734100</td>\n",
       "      <td>16.943500</td>\n",
       "      <td>27.228700</td>\n",
       "      <td>35.649700</td>\n",
       "      <td>25.012250</td>\n",
       "    </tr>\n",
       "    <tr>\n",
       "      <th>max</th>\n",
       "      <td>3802.000000</td>\n",
       "      <td>20.330100</td>\n",
       "      <td>16.088200</td>\n",
       "      <td>18.616000</td>\n",
       "      <td>41.800100</td>\n",
       "      <td>54.688500</td>\n",
       "      <td>32.866600</td>\n",
       "    </tr>\n",
       "  </tbody>\n",
       "</table>\n",
       "</div>"
      ],
      "text/plain": [
       "             index      LIncome        GFund        FFund        CFund  \\\n",
       "count  3803.000000  3803.000000  3803.000000  3803.000000  3803.000000   \n",
       "mean   1901.000000    14.030255    13.417366    14.381294    20.442476   \n",
       "std    1097.975865     5.331284     1.610512     2.745017     8.724108   \n",
       "min       0.000000     0.000000    10.240000     9.830000     7.867300   \n",
       "25%     950.500000    12.945000    12.170000    11.695000    13.647450   \n",
       "50%    1901.000000    14.943300    13.719400    15.025400    16.499100   \n",
       "75%    2851.500000    17.623450    14.734100    16.943500    27.228700   \n",
       "max    3802.000000    20.330100    16.088200    18.616000    41.800100   \n",
       "\n",
       "             SFund        IFund  \n",
       "count  3803.000000  3803.000000  \n",
       "mean     26.329833    21.516101  \n",
       "std      11.856997     4.921716  \n",
       "min       9.063100    10.290300  \n",
       "25%      16.954600    17.925050  \n",
       "50%      21.716100    21.684900  \n",
       "75%      35.649700    25.012250  \n",
       "max      54.688500    32.866600  "
      ]
     },
     "execution_count": 16,
     "metadata": {},
     "output_type": "execute_result"
    }
   ],
   "source": [
    "sql_df.describe()"
   ]
  },
  {
   "cell_type": "code",
   "execution_count": 17,
   "metadata": {},
   "outputs": [
    {
     "data": {
      "text/plain": [
       "date       0\n",
       "LIncome    0\n",
       "L2020      0\n",
       "L2030      0\n",
       "L2040      0\n",
       "L2050      0\n",
       "GFund      0\n",
       "FFund      0\n",
       "CFund      0\n",
       "SFund      0\n",
       "IFund      0\n",
       "dtype: int64"
      ]
     },
     "execution_count": 17,
     "metadata": {},
     "output_type": "execute_result"
    }
   ],
   "source": [
    "#total missing values\n",
    "pd_df.isnull().sum()"
   ]
  },
  {
   "cell_type": "code",
   "execution_count": null,
   "metadata": {},
   "outputs": [],
   "source": []
  },
  {
   "cell_type": "code",
   "execution_count": 18,
   "metadata": {},
   "outputs": [
    {
     "data": {
      "text/plain": [
       "index      0\n",
       "date       0\n",
       "LIncome    0\n",
       "L2020      0\n",
       "L2030      0\n",
       "L2040      0\n",
       "L2050      0\n",
       "GFund      0\n",
       "FFund      0\n",
       "CFund      0\n",
       "SFund      0\n",
       "IFund      0\n",
       "dtype: int64"
      ]
     },
     "execution_count": 18,
     "metadata": {},
     "output_type": "execute_result"
    }
   ],
   "source": [
    "sql_df.isnull().sum()"
   ]
  },
  {
   "cell_type": "code",
   "execution_count": 19,
   "metadata": {},
   "outputs": [],
   "source": [
    "#show rows with missing values\n",
    "missing = pd_df['LIncome'].sum()"
   ]
  },
  {
   "cell_type": "code",
   "execution_count": 21,
   "metadata": {},
   "outputs": [],
   "source": [
    "dupe = pd_df.duplicated()"
   ]
  },
  {
   "cell_type": "code",
   "execution_count": 22,
   "metadata": {},
   "outputs": [
    {
     "data": {
      "text/html": [
       "<div>\n",
       "<style scoped>\n",
       "    .dataframe tbody tr th:only-of-type {\n",
       "        vertical-align: middle;\n",
       "    }\n",
       "\n",
       "    .dataframe tbody tr th {\n",
       "        vertical-align: top;\n",
       "    }\n",
       "\n",
       "    .dataframe thead th {\n",
       "        text-align: right;\n",
       "    }\n",
       "</style>\n",
       "<table border=\"1\" class=\"dataframe\">\n",
       "  <thead>\n",
       "    <tr style=\"text-align: right;\">\n",
       "      <th></th>\n",
       "      <th>date</th>\n",
       "      <th>LIncome</th>\n",
       "      <th>L2020</th>\n",
       "      <th>L2030</th>\n",
       "      <th>L2040</th>\n",
       "      <th>L2050</th>\n",
       "      <th>GFund</th>\n",
       "      <th>FFund</th>\n",
       "      <th>CFund</th>\n",
       "      <th>SFund</th>\n",
       "      <th>IFund</th>\n",
       "    </tr>\n",
       "  </thead>\n",
       "  <tbody>\n",
       "  </tbody>\n",
       "</table>\n",
       "</div>"
      ],
      "text/plain": [
       "Empty DataFrame\n",
       "Columns: [date, LIncome, L2020, L2030, L2040, L2050, GFund, FFund, CFund, SFund, IFund]\n",
       "Index: []"
      ]
     },
     "execution_count": 22,
     "metadata": {},
     "output_type": "execute_result"
    }
   ],
   "source": [
    "pd_df.loc[dupe]"
   ]
  },
  {
   "cell_type": "markdown",
   "metadata": {},
   "source": [
    "## Time Series Data"
   ]
  },
  {
   "cell_type": "code",
   "execution_count": 27,
   "metadata": {},
   "outputs": [],
   "source": [
    "import pandas as pd\n",
    "import numpy as np\n",
    "import seaborn; seaborn.set()\n",
    "import matplotlib.pyplot as plt\n",
    "from datetime import datetime\n",
    "%matplotlib inline"
   ]
  },
  {
   "cell_type": "code",
   "execution_count": 46,
   "metadata": {},
   "outputs": [],
   "source": [
    "#ts_df = pd.DataFrame(data=pd_df, index=[0])\n",
    "ts_df = pd.read_excel('c:/users/ravi/downloads/Data_Analytic/shareprices.xlsx', index_col=0)"
   ]
  },
  {
   "cell_type": "code",
   "execution_count": 47,
   "metadata": {},
   "outputs": [
    {
     "data": {
      "text/plain": [
       "Text(0, 0.5, 'TSP Prices')"
      ]
     },
     "execution_count": 47,
     "metadata": {},
     "output_type": "execute_result"
    },
    {
     "data": {
      "image/png": "[encoded data removed]",
      "text/plain": [
       "<Figure size 432x288 with 1 Axes>"
      ]
     },
     "metadata": {
      "needs_background": "light"
     },
     "output_type": "display_data"
    }
   ],
   "source": [
    "#bar plot of data\n",
    "ts_df.plot()\n",
    "plt.ylabel('TSP Prices')\n",
    "\n"
   ]
  },
  {
   "cell_type": "markdown",
   "metadata": {},
   "source": [
    "#Monthly Data aggregation\n",
    "monthly = ts_df.resample('M')\n",
    "monthly.plot()\n",
    "plt.ylabel('AVG TSP PRICES')"
   ]
  },
  {
   "cell_type": "code",
   "execution_count": null,
   "metadata": {},
   "outputs": [],
   "source": [
    "###SUMMARY \n",
    "In 2004, I Fund was performing well. All funds went down in 2009. Since 2009, I Fund, S Fund, and C Fund has been growing. \n",
    "Currently, S fund is out performing all other funds."
   ]
  },
  {
   "cell_type": "markdown",
   "metadata": {},
   "source": [
    "## CORRELATION AND LINEAR REGRESSION\n"
   ]
  }
 ],
 "metadata": {
  "kernelspec": {
   "display_name": "Python 3",
   "language": "python",
   "name": "python3"
  },
  "language_info": {
   "codemirror_mode": {
    "name": "ipython",
    "version": 3
   },
   "file_extension": ".py",
   "mimetype": "text/x-python",
   "name": "python",
   "nbconvert_exporter": "python",
   "pygments_lexer": "ipython3",
   "version": "3.7.1"
  }
 },
 "nbformat": 4,
 "nbformat_minor": 2
}
